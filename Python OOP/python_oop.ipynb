{
 "cells": [
  {
   "cell_type": "markdown",
   "metadata": {},
   "source": [
    "แนวความคิดภาษาเชิงวัตถ\n",
    "OOP (Object Oriented Programming) คือการเขียนโปรแกรมแบบที่แบ่งปัญหาออกเป็น **\"วัตถุ\" (Object)** ซึ่งมี **\"คุณสมบัติ\" (Properties)** และ **\"ความสามารถ\" (Methods)** เหมือนสิ่งของในชีวิตจริง เช่น \n",
    "\n",
    "- **คุณสมบัติ:** สี ขนาด \n",
    "- **ความสามารถ:** เดิน วิ่ง  \n",
    "\n",
    "### ตัวอย่างง่ายๆ:\n",
    "🐶 **สุนัข (Dog)**  \n",
    "- **คุณสมบัติ:** สีขน = น้ำตาล, อายุ = 3 ปี  \n",
    "- **ความสามารถ:** เห่า(), วิ่ง()  \n",
    "\n",
    "OOP จะใช้วัตถุแบบนี้เพื่อแก้ปัญหาในโปรแกรมค่ะ!"
   ]
  },
  {
   "cell_type": "markdown",
   "metadata": {},
   "source": [
    "**เชิงกระบวนการ (Procedural)** กับ **เชิงวัตถุ (Object-Oriented)** ต่างกันที่แนวคิดในการเขียนโปรแกรม:  \n",
    "\n",
    "### เชิงกระบวนการ (🐾 ทำตามขั้นตอน):  \n",
    "- เน้น **ขั้นตอนการทำงาน** แบบลำดับ เช่น ทำสิ่งที่ 1 -> สิ่งที่ 2 -> สิ่งที่ 3  \n",
    "- เหมือน **สูตรอาหาร** ที่บอกทีละขั้นตอน: หั่นผัก -> ต้ม -> ปรุงรส  \n",
    "- **ตัวอย่าง:** ฟังก์ชัน `ทำความสะอาดบ้าน()` ทำทุกขั้นตอนในครั้งเดียว  \n",
    "\n",
    "### เชิงวัตถุ (🐶 ใช้ \"วัตถุ\"):  \n",
    "- เน้นการสร้าง **วัตถุ** ที่มี **คุณสมบัติ** และ **ความสามารถ**  \n",
    "- เหมือนมี **หุ่นยนต์** ทำงานให้: หุ่นยนต์ A = ดูดฝุ่น, หุ่นยนต์ B = ถูพื้น  \n",
    "- **ตัวอย่าง:** สร้างวัตถุ `หุ่นยนต์ดูดฝุ่น` ให้ทำเฉพาะหน้าที่  \n",
    "\n",
    "**เปรียบเทียบ:**  \n",
    "- **เชิงกระบวนการ:** หั่น + ต้ม + ปรุง  \n",
    "- **เชิงวัตถุ:** ให้ \"เชฟ\" ทำทุกอย่างเอง!"
   ]
  },
  {
   "cell_type": "markdown",
   "metadata": {},
   "source": [
    "องค์ประกอบพื้นฐานในภาษาเชิงวัตถุ\n",
    "1. คลาส (Class) & วัตถุ (Object)\n",
    "2. การห่อหุ้ม (Encapsulation)\n",
    "3. การสืบทอดคุณสมบัติ (Inheritance)\n",
    "4. การพ้องรูป (Polymorphism)"
   ]
  },
  {
   "cell_type": "markdown",
   "metadata": {},
   "source": [
    "**คลาส (Class) & วัตถุ (Object)**\n",
    "**คลาส (Class)** คือ **พิมพ์เขียว** หรือ **แม่แบบ** สำหรับสร้าง **วัตถุ (Object)** เช่น การออกแบบบ้านก่อนสร้างจริง  \n",
    "\n",
    "### **ตัวอย่างง่ายๆ**:  \n",
    "🏠 **คลาส:** แบบบ้าน  \n",
    "- **คุณสมบัติ (Properties):** สี, ขนาด, จำนวนห้อง  \n",
    "- **ความสามารถ (Methods):** เปิดประตู(), ปิดไฟ()  \n",
    "\n",
    "🏡 **วัตถุ (Object):** บ้านหลังจริง  \n",
    "- **บ้าน A:** สี = แดง, ขนาด = เล็ก  \n",
    "- **บ้าน B:** สี = น้ำเงิน, ขนาด = ใหญ่  \n",
    "\n",
    "**เปรียบเทียบ:**  \n",
    "- **คลาส:** แบบบ้านที่วาดในกระดาษ  \n",
    "- **วัตถุ:** บ้านจริงที่สร้างจากแบบนั้น 🏡"
   ]
  },
  {
   "cell_type": "markdown",
   "metadata": {},
   "source": [
    "การสร้าง Class & Object"
   ]
  },
  {
   "cell_type": "code",
   "execution_count": 14,
   "metadata": {},
   "outputs": [],
   "source": [
    "#Class\n",
    "class Employee:\n",
    "    def __init__(self,name,salary,department):\n",
    "        self.name = name\n",
    "        self.salary = salary\n",
    "        self.department = department\n",
    "    #Method    \n",
    "    def showdetail(self):\n",
    "        print(f\"ชื่อพนักงาน {self.name} เงินเดือน {self.salary} แผนก {self.department}\")"
   ]
  },
  {
   "cell_type": "code",
   "execution_count": 15,
   "metadata": {},
   "outputs": [],
   "source": [
    "#สร้างวัตถุ\n",
    "obj1 = Employee(name=\"กร\",\n",
    "                salary=50000,\n",
    "                department=\"CEO\")"
   ]
  },
  {
   "cell_type": "markdown",
   "metadata": {},
   "source": [
    "เรียกใช้"
   ]
  },
  {
   "cell_type": "code",
   "execution_count": 16,
   "metadata": {},
   "outputs": [
    {
     "name": "stdout",
     "output_type": "stream",
     "text": [
      "ชื่อพนักงาน กร เงินเดือน 50000 แผนก CEO\n"
     ]
    }
   ],
   "source": [
    "obj1.showdetail()"
   ]
  },
  {
   "cell_type": "markdown",
   "metadata": {},
   "source": [
    "Constructor&Destructor\n",
    "**Constructor** และ **Destructor** ใช้จัดการวัตถุ (Object):  \n",
    "\n",
    "### **Constructor (👷‍♂️ สร้างวัตถุ):**  \n",
    "- ทำงาน **อัตโนมัติ** ตอนสร้างวัตถุ  \n",
    "- ใช้ **ตั้งค่าเริ่มต้น** เช่น ตั้งสี หรือชื่อ  \n",
    "\n",
    "### **Destructor (🗑️ ลบวัตถุ):**  \n",
    "- ทำงาน **อัตโนมัติ** ตอนวัตถุถูกลบ  \n",
    "- ใช้ **คืนทรัพยากร** เช่น ลบข้อมูลในหน่วยความจำ  \n",
    "\n",
    "### **ตัวอย่างง่ายๆ:**  \n",
    "**วัตถุ: 🐶 สุนัข**  \n",
    "- **Constructor:** ตั้งชื่อ = \"บ๊อบบี้\", สีขน = ขาว  \n",
    "- **Destructor:** เก็บของเล่น แล้วลากวัตถุออกไป  \n",
    "\n",
    "เหมือนสร้างตุ๊กตา -> เล่นเสร็จ -> เก็บเข้ากล่อง 😊\n"
   ]
  },
  {
   "cell_type": "code",
   "execution_count": 17,
   "metadata": {},
   "outputs": [
    {
     "name": "stdout",
     "output_type": "stream",
     "text": [
      "ชื่อพนักงาน กร เงินเดือน 70000 แผนก CEO\n"
     ]
    }
   ],
   "source": [
    "#การสร้าง construtor คือ การกำหนดค่าเริ่มต้นให้กับวัตถุ\n",
    "class Employee:\n",
    "    def __init__(self,name,salary,department):\n",
    "        self.name = name\n",
    "        self.salary = salary\n",
    "        self.department = department\n",
    "    def showdetail(self):\n",
    "        print(f\"ชื่อพนักงาน {self.name} เงินเดือน {self.salary} แผนก {self.department}\")\n",
    "    # destrutor ไม่ระบุก็ได้ คือ คำสั่งคืนค่าหรือคืนแรม\n",
    "    # def __del__(self):\n",
    "    #     print(\"call Destructor\")\n",
    "\n",
    "#สร้างวัตถุ\n",
    "obj1 = Employee(name=\"กร\",\n",
    "                salary=50000,\n",
    "                department=\"CEO\")\n",
    "#การปรับเปลี่ยนค่าหรืออัพเดท\n",
    "obj1.salary = 70000\n",
    "obj1.showdetail()\n"
   ]
  },
  {
   "cell_type": "markdown",
   "metadata": {},
   "source": [
    "isinstance\n",
    "**`isinstance`** ใช้ตรวจสอบว่า **วัตถุ (Object)** เป็นชนิด (**Class**) ที่กำหนดหรือไม่  \n",
    "\n",
    "### **ตัวอย่างง่ายๆ:**  \n",
    "🐶 **วัตถุ:** สุนัข (Dog)  \n",
    "- ถาม: \"บ๊อบบี้\" เป็นสุนัขหรือเปล่า?  \n",
    "- ใช้ `isinstance(\"บ๊อบบี้\", Dog)`  \n",
    "  - **ถ้าใช่:** ได้คำตอบ **True**  \n",
    "  - **ถ้าไม่ใช่:** ได้คำตอบ **False**  \n",
    "\n",
    "### **ภาพประกอบ:**  \n",
    "- 🐶 = สุนัข -> `isinstance(🐶, Dog) = True`  \n",
    "- 🍎 = แอปเปิล -> `isinstance(🍎, Dog) = False`  "
   ]
  },
  {
   "cell_type": "markdown",
   "metadata": {},
   "source": [
    "### **การสืบทอดคุณสมบัติ (Inheritance)**\n",
    "**การสืบทอดคุณสมบัติ (Inheritance)** คือการที่ **คลาสลูก (Child Class)** ได้รับ **คุณสมบัติ** และ **ความสามารถ** จาก **คลาสแม่ (Parent Class)** โดยอัตโนมัติ  \n",
    "\n",
    "### **ตัวอย่างง่ายๆ:**  \n",
    "**คลาสแม่: 🐾 สัตว์ (Animal)**  \n",
    "- **คุณสมบัติ:** ชื่อ, อายุ  \n",
    "- **ความสามารถ:** เดิน(), นอน()  \n",
    "\n",
    "**คลาสลูก: 🐶 สุนัข (Dog)**  \n",
    "- สืบทอด **ชื่อ, อายุ, เดิน(), นอน()** จากสัตว์  \n",
    "- เพิ่มใหม่: **ความสามารถ:** เห่า()  \n",
    "\n",
    "### **ภาพประกอบ:**  \n",
    "- 🐾 **คลาสแม่ (Animal):** เดิน, นอน  \n",
    "  ↳ 🐶 **คลาสลูก (Dog):** เดิน, นอน, เห่า  \n",
    "  ↳ 😺 **แมว (Cat):** เดิน, นอน, ข่วน  \n",
    "\n",
    "**ประโยชน์:** ลดการเขียนโค้ดซ้ำ และเพิ่มฟีเจอร์เฉพาะของคลาสลูกได้ง่าย!"
   ]
  },
  {
   "cell_type": "code",
   "execution_count": 18,
   "metadata": {},
   "outputs": [
    {
     "name": "stdout",
     "output_type": "stream",
     "text": [
      "ABC.co.lt\n"
     ]
    }
   ],
   "source": [
    "#การสืบทอดคุณสมบัติ (Inheritance)\n",
    "#class แม่\n",
    "class Employee:\n",
    "    #class variable\n",
    "    minsalary = 50000\n",
    "    _maxsalary = 50000\n",
    "    companyName = \"ABC.co.lt\"\n",
    "    def __init__(self,name,salary,department):\n",
    "        # instance variable\n",
    "        self.__name = name #Private\n",
    "        self.__salary = salary #Private\n",
    "        self._department = department #Private\n",
    "    # Private method\n",
    "    def _showdetail(self):\n",
    "        print(f\"ชื่อพนักงาน {self.__name} เงินเดือน {self.__salary} แผนก {self._department}\")\n",
    "\n",
    "#class ลูก\n",
    "class Accounting(Employee):\n",
    "    departmentName = \"บัญชี\"\n",
    "    def __init__(self):\n",
    "        pass\n",
    "class Programmer(Employee):\n",
    "    departmentName = \"พัฒนาระบบ\"\n",
    "    def __init__(self):\n",
    "        pass\n",
    "class Sale(Employee):\n",
    "    departmentName = \"ฝ่ายขาย\"\n",
    "    def __init__(self):\n",
    "        pass\n",
    "\n",
    "\n",
    "programmer = Programmer()\n",
    "print(programmer.companyName)\n",
    "\n",
    "\n",
    "\n"
   ]
  },
  {
   "cell_type": "markdown",
   "metadata": {},
   "source": [
    "Encapsulation\n",
    "**Encapsulation (การห่อหุ้มข้อมูล)** คือการ **ซ่อนข้อมูล** หรือ **ซ่อนรายละเอียดภายใน** เพื่อป้องกันการเข้าถึงหรือแก้ไขโดยตรง  \n",
    "\n",
    "### **ตัวอย่างง่ายๆ:**  \n",
    "🎁 **ของขวัญ (Encapsulation):**  \n",
    "- **สิ่งที่ซ่อน:** ของข้างในกล่อง (ข้อมูล)  \n",
    "- **สิ่งที่ให้ใช้:** แค่เปิดฝากล่อง (ฟังก์ชัน)  \n",
    "\n",
    "**ในโปรแกรม:**  \n",
    "- ซ่อน **ข้อมูล (Properties)** ด้วย **private**  \n",
    "- ใช้ **ฟังก์ชัน (Methods)** เพื่อเข้าถึงหรือแก้ไขข้อมูล  \n",
    "\n",
    "### **ภาพประกอบ:**  \n",
    "- 🏠 บ้านมีประตูล็อก (ข้อมูลถูกซ่อน)  \n",
    "- 🔑 ใช้กุญแจ (ฟังก์ชัน) เพื่อเปิดเข้าบ้าน  \n",
    "\n",
    "**ประโยชน์:** ป้องกันข้อผิดพลาด และควบคุมการเข้าถึงข้อมูลได้ง่าย! 😊"
   ]
  },
  {
   "cell_type": "code",
   "execution_count": 19,
   "metadata": {},
   "outputs": [
    {
     "name": "stdout",
     "output_type": "stream",
     "text": [
      "ชื่อพนักงาน กร เงินเดือน 50000 แผนก CEO\n"
     ]
    }
   ],
   "source": [
    "# การห่อหุ้ม Encapsulation -> ระดับการเข้าถึง\n",
    "#Public = ใครๆก้ใช้งานได้ -> Facebook สาธาณะ\n",
    "#Protected(_) = เข้าถึงได้เฉพาะคลาสตัวเองและลูก -> Post Facebook -> เพื่อน\n",
    "#Private(__) = เฉพาะตัวเองที่เข้าถึงได้ -> Lock Post Facebook\n",
    "#การสร้าง construtor คือ การกำหนดค่าเริ่มต้นให้กับวัตถุ\n",
    "#ฟังชั่นเสริม\n",
    "# class Employee:\n",
    "#     def __init__(self,name,salary,department):\n",
    "#         # Public attribute\n",
    "#         self.name = name\n",
    "#         self.salary = salary\n",
    "#         self.department = department\n",
    "#     # Public method\n",
    "#     def showdetail(self):\n",
    "#         print(f\"ชื่อพนักงาน {self.name} เงินเดือน {self.salary} แผนก {self.department}\")\n",
    "\n",
    "# #Public\n",
    "# obj1 = Employee(name=\"กร\",\n",
    "#                 salary=50000,\n",
    "#                 department=\"CEO\")\n",
    "# obj1.salary = 70000\n",
    "# obj1.showdetail()\n",
    "\n",
    "#Protected(_)\n",
    "# class Employee:\n",
    "#     def __init__(self,name,salary,department):\n",
    "#         # Protected attribute\n",
    "#         self._name = name\n",
    "#         self._salary = salary\n",
    "#         self._department = department\n",
    "#         # self._showdetail()\n",
    "#     # Protected method\n",
    "#     def _showdetail(self):\n",
    "#         print(f\"ชื่อพนักงาน {self._name} เงินเดือน {self._salary} แผนก {self._department}\")\n",
    "# obj1 = Employee(name=\"กร\",\n",
    "#                 salary=50000,\n",
    "#                 department=\"CEO\")\n",
    "# #ถ้าเปลี่ยน attribute Public ค่าจะไม่เปลี่ยน\n",
    "# obj1.name = \"กรซ่า\"\n",
    "# obj1._showdetail()\n",
    "\n",
    "#Private(__)\n",
    "class Employee:\n",
    "    def __init__(self,name,salary,department):\n",
    "        # Private attribute\n",
    "        self._name = name #Protected\n",
    "        self.__salary = salary #Private\n",
    "        self.__department = department #Private\n",
    "        self.__showdetail()\n",
    "    # Private method\n",
    "    def __showdetail(self):\n",
    "        print(f\"ชื่อพนักงาน {self._name} เงินเดือน {self.__salary} แผนก {self.__department}\")\n",
    "obj1 = Employee(name=\"กร\",\n",
    "                salary=50000,\n",
    "                department=\"CEO\")\n",
    "# obj1.__showdetail() # เรียกใช้งานไม่ได้ ต้องไปกำหนดใน class แทน\n",
    "obj1._name = \"กรซ่า\"\n",
    "obj1.__salary = 57000 #จะแก้ไขไม่ได้\n",
    "obj1.__department = \"Sale\" #จะแก้ไขไม่ได้\n",
    "\n",
    "\n"
   ]
  },
  {
   "cell_type": "markdown",
   "metadata": {},
   "source": [
    "Setter , Getter Method\n",
    "**Setter** และ **Getter** คือฟังก์ชันที่ใช้ควบคุมการเข้าถึง **ข้อมูล (Properties)** ในการเขียนโปรแกรม  \n",
    "\n",
    "### **Getter Method (🎩 ดึงข้อมูล):**  \n",
    "- ใช้ **อ่านค่า** ของข้อมูล  \n",
    "- เช่น ถามว่า **\"ชื่อของสุนัขคืออะไร?\"**  \n",
    "  - `getName()` → ตอบกลับ: \"บ๊อบบี้\"  \n",
    "\n",
    "### **Setter Method (📦 ตั้งค่า):**  \n",
    "- ใช้ **แก้ไขหรือเปลี่ยนค่า** ของข้อมูล  \n",
    "- เช่น สั่งว่า **\"เปลี่ยนชื่อสุนัขเป็น 'โฮ่ง'\"**  \n",
    "  - `setName(\"โฮ่ง\")`  \n",
    "\n",
    "---\n",
    "\n",
    "### **ตัวอย่างง่ายๆ:**  \n",
    "🐶 **วัตถุ: สุนัข**  \n",
    "- **Getter:** `dog.getName()` → \"บ๊อบบี้\"  \n",
    "- **Setter:** `dog.setName(\"โฮ่ง\")` → เปลี่ยนชื่อใหม่  \n",
    "\n",
    "**ประโยชน์:**  \n",
    "- ควบคุมการเข้าถึงข้อมูลโดยตรง 🔒  \n",
    "- ป้องกันการเปลี่ยนแปลงข้อมูลผิดพลาด! 🎯"
   ]
  },
  {
   "cell_type": "code",
   "execution_count": null,
   "metadata": {},
   "outputs": [
    {
     "name": "stdout",
     "output_type": "stream",
     "text": [
      "พนักงานมาทำงานเร็วที่สุด = กรซ่า\n"
     ]
    },
    {
     "data": {
      "text/plain": [
       "'กรซ่า'"
      ]
     },
     "execution_count": 31,
     "metadata": {},
     "output_type": "execute_result"
    }
   ],
   "source": [
    "#Private(__)\n",
    "class Employee:\n",
    "    def __init__(self,name,salary,department):\n",
    "        # Private attribute\n",
    "        self.__name = name #Private\n",
    "        self.__salary = salary #Private\n",
    "        self.__department = department #Private\n",
    "    # Private method\n",
    "    def _showdetail(self):\n",
    "        print(f\"ชื่อพนักงาน {self.__name} เงินเดือน {self.__salary} แผนก {self.__department}\")\n",
    "    #setter method\n",
    "    def setName(self,newname):\n",
    "        self.__name = newname\n",
    "        return self.__name\n",
    "\n",
    "    def setSalary(self,newsalary):\n",
    "        self.__salary = newsalary\n",
    "        return self.__salary\n",
    "\n",
    "    def setDepartment(self,newdepartment):\n",
    "        self.__department = newdepartment\n",
    "        return self.__department\n",
    "    \n",
    "    #getter method\n",
    "    def getName(self):\n",
    "        return self.__name\n",
    "    \n",
    "obj1 = Employee(name=\"กร\",\n",
    "                salary=50000,\n",
    "                department=\"CEO\")\n",
    "obj1.setName(newname=\"กรซ่า\")\n",
    "# obj1.setSalary(newsalary=75000)\n",
    "# obj1.setDepartment(newdepartment=\"it\")\n",
    "print(f\"พนักงานมาทำงานเร็วที่สุด = {obj1.getName()}\")\n",
    "obj1.getName()"
   ]
  },
  {
   "cell_type": "markdown",
   "metadata": {},
   "source": [
    "Class Variable & Instance Variable\n",
    "**Class Variable** และ **Instance Variable** ต่างกันในเรื่องขอบเขตการใช้งานในคลาส:  \n",
    "\n",
    "---\n",
    "\n",
    "### **Class Variable (📦 ใช้ร่วมกัน):**  \n",
    "- เป็น **ตัวแปรของคลาส** ที่ทุกวัตถุ (Object) ใช้ค่าเดียวกัน  \n",
    "- เช่น **กฎของสัตว์:** \"สัตว์ทุกตัวต้องหายใจ\"  \n",
    "\n",
    "---\n",
    "\n",
    "### **Instance Variable (👤 ใช้เฉพาะตัว):**  \n",
    "- เป็น **ตัวแปรของวัตถุ** แต่ละตัว มีค่าของตัวเอง  \n",
    "- เช่น **ชื่อสัตว์:**  \n",
    "  - 🐶 สุนัขชื่อ \"บ๊อบบี้\"  \n",
    "  - 🐱 แมวชื่อ \"มะลิ\"  \n",
    "\n",
    "---\n",
    "\n",
    "### **ตัวอย่างภาพง่ายๆ:**  \n",
    "- **Class Variable:** กระดานดำในห้องเรียน 1 ห้อง (ทุกคนเห็นเหมือนกัน) 🖤  \n",
    "- **Instance Variable:** สมุดโน้ตส่วนตัวของนักเรียนแต่ละคน 📘  \n",
    "\n",
    "**เปรียบเทียบ:**  \n",
    "- 🏠 **Class:** บ้าน (Class Variable = สีทาบ้านเดียวกัน)  \n",
    "- 🏡 **Object:** บ้านแต่ละหลัง (Instance Variable = ที่อยู่ต่างกัน) 😊"
   ]
  },
  {
   "cell_type": "code",
   "execution_count": null,
   "metadata": {},
   "outputs": [],
   "source": [
    "#class variable\n",
    "class Employee:\n",
    "    #class variable\n",
    "    _minsalary = 12000\n",
    "    _maxsalary = 50000\n",
    "    _companyName = \"ABC.co.lt\"\n",
    "    def __init__(self,name,salary,department):\n",
    "        # instance variable\n",
    "        self.__name = name #Private\n",
    "        self.__salary = salary #Private\n",
    "        self._department = department #Private\n",
    "    # Private method\n",
    "    def _showdetail(self):\n",
    "        print(f\"ชื่อพนักงาน {self.__name} เงินเดือน {self.__salary} แผนก {self._department}\")\n",
    "\n",
    "obj1 = Employee(name=\"กร\",\n",
    "                salary=50000,\n",
    "                department=\"CEO\")\n",
    "\n",
    "# print(obj1._department)\n",
    "print(f\"เงินเดือนต่ำสุดของพนักงาน : {Employee._minsalary}\")\n",
    "print(f\"เงินเดือนมากสุดของพนักงาน : {Employee._maxsalary}\")\n",
    "print(f\"บริษัท : {Employee._companyName}\")\n"
   ]
  },
  {
   "cell_type": "markdown",
   "metadata": {},
   "source": [
    "การสืบทอดคุณสมบัติ (Inheritance)\n",
    "**การสืบทอดคุณสมบัติ (Inheritance)** คือการที่ **คลาสลูก** สามารถสืบทอด **คุณสมบัติ** และ **ความสามารถ** จาก **คลาสแม่** โดยไม่ต้องเขียนโค้ดซ้ำ  \n",
    "\n",
    "### **ตัวอย่างง่ายๆ:**  \n",
    "**คลาสแม่: 🐾 สัตว์ (Animal)**  \n",
    "- **คุณสมบัติ:** ชื่อ, อายุ  \n",
    "- **ความสามารถ:** เดิน(), นอน()  \n",
    "\n",
    "**คลาสลูก: 🐶 สุนัข (Dog)**  \n",
    "- สืบทอด **ชื่อ, อายุ, เดิน(), นอน()** จากสัตว์  \n",
    "- เพิ่มความสามารถใหม่: **เห่า()**  \n",
    "\n",
    "---\n",
    "\n",
    "### **ภาพประกอบ:**  \n",
    "- 🐾 **คลาสแม่ (Animal):** เดิน, นอน  \n",
    "  ↳ 🐶 **คลาสลูก (Dog):** เดิน, นอน, เห่า  \n",
    "  ↳ 😺 **แมว (Cat):** เดิน, นอน, ข่วน  \n",
    "\n",
    "**ประโยชน์:**  \n",
    "- ลดการเขียนโค้ดซ้ำ และสามารถเพิ่มคุณสมบัติใหม่ให้คลาสลูกได้ง่าย!"
   ]
  },
  {
   "cell_type": "code",
   "execution_count": 21,
   "metadata": {},
   "outputs": [
    {
     "name": "stdout",
     "output_type": "stream",
     "text": [
      "ABC.co.lt\n"
     ]
    }
   ],
   "source": [
    "#การสืบทอดคุณสมบัติ (Inheritance)\n",
    "#class แม่\n",
    "class Employee:\n",
    "    #class variable\n",
    "    minsalary = 50000\n",
    "    _maxsalary = 50000\n",
    "    companyName = \"ABC.co.lt\"\n",
    "    def __init__(self,name,salary,department):\n",
    "        # instance variable\n",
    "        self.__name = name #Private\n",
    "        self.__salary = salary #Private\n",
    "        self._department = department #Private\n",
    "    # Private method\n",
    "    def _showdetail(self):\n",
    "        print(f\"ชื่อพนักงาน {self.__name} เงินเดือน {self.__salary} แผนก {self._department}\")\n",
    "\n",
    "#class ลูก\n",
    "class Accounting(Employee):\n",
    "    departmentName = \"บัญชี\"\n",
    "    def __init__(self):\n",
    "        pass\n",
    "class Programmer(Employee):\n",
    "    departmentName = \"พัฒนาระบบ\"\n",
    "    def __init__(self):\n",
    "        pass\n",
    "class Sale(Employee):\n",
    "    departmentName = \"ฝ่ายขาย\"\n",
    "    def __init__(self):\n",
    "        pass\n",
    "\n",
    "\n",
    "programmer = Programmer()\n",
    "print(programmer.companyName)\n",
    "\n",
    "\n",
    "\n"
   ]
  },
  {
   "cell_type": "markdown",
   "metadata": {},
   "source": [
    "คีย์เวิร์ด super \n",
    "! **`super`** คือคีย์เวิร์ดที่ใช้ใน **คลาสลูก** เพื่อเรียกใช้ **ฟังก์ชัน** หรือ **คุณสมบัติ** ของ **คลาสแม่** ที่ถูกสืบทอดมา\n",
    "\n",
    "### **ตัวอย่างง่ายๆ:**  \n",
    "**คลาสแม่: 🐾 สัตว์ (Animal)**  \n",
    "- **ฟังก์ชัน:** `speak()` → \"สัตว์พูด\"  \n",
    "\n",
    "**คลาสลูก: 🐶 สุนัข (Dog)**  \n",
    "- **ฟังก์ชัน:** `speak()` → ใช้ `super().speak()` เพื่อเรียกจากคลาสแม่ แล้วเพิ่มคำว่า \"หมาพูด\"  \n",
    "\n",
    "### **โค้ดตัวอย่าง:**\n",
    "```python\n",
    "class Animal:\n",
    "    def speak(self):\n",
    "        print(\"สัตว์พูด\")\n",
    "\n",
    "class Dog(Animal):\n",
    "    def speak(self):\n",
    "        super().speak()  # เรียกฟังก์ชัน speak() จากคลาสแม่\n",
    "        print(\"หมาพูด\")\n",
    "\n",
    "dog = Dog()\n",
    "dog.speak()  # หมาพูด\n",
    "```\n",
    "\n",
    "---\n",
    "\n",
    "### **ภาพประกอบ:**  \n",
    "- **`super()`** เหมือนเป็นตัวกลางที่ช่วยให้คลาสลูกเรียกใช้คุณสมบัติจากคลาสแม่ได้! 😊"
   ]
  },
  {
   "cell_type": "code",
   "execution_count": 22,
   "metadata": {},
   "outputs": [
    {
     "name": "stdout",
     "output_type": "stream",
     "text": [
      "ชื่อพนักงาน kon เงินเดือน 15000 แผนก บัญชี รายได้ต่อปี 180000\n",
      "ชื่อพนักงาน นัท เงินเดือน 30000 แผนก พัฒนาระบบ รายได้ต่อปี 360000\n",
      "ชื่อพนักงาน โบว์วี่ เงินเดือน 20000 แผนก ฝ่ายขาย รายได้ต่อปี 240000\n"
     ]
    }
   ],
   "source": [
    "#super เมื่อต้องการเรียกใช้งานคุณสมบัติต่างๆของคลาสแม่เช่น construtor method attribute\n",
    "#การสืบทอดคุณสมบัติ (Inheritance)\n",
    "#class แม่\n",
    "class Employee:\n",
    "    #class variable\n",
    "    minsalary = 50000\n",
    "    _maxsalary = 50000\n",
    "    companyName = \"ABC.co.lt\"\n",
    "    def __init__(self,name,salary,department):#construtor\n",
    "        # instance variable\n",
    "        self.__name = name #Private\n",
    "        self.__salary = salary #Private\n",
    "        self._department = department #Private\n",
    "    \n",
    "    # Private method\n",
    "    def _showdetail(self):\n",
    "        print(f\"ชื่อพนักงาน {self.__name} เงินเดือน {self.__salary} แผนก {self._department}\")\n",
    "    #salary per year\n",
    "    def _getIncome(self):\n",
    "        return self.__salary*12\n",
    "    \n",
    "    def __str__(self):\n",
    "        return (f\"ชื่อพนักงาน {self.__name} เงินเดือน {self.__salary} แผนก {self._department} รายได้ต่อปี {self._getIncome()}\")\n",
    "#class ลูก\n",
    "class Accounting(Employee):\n",
    "    __departmentName = \"บัญชี\"\n",
    "    def __init__(self,name,salary):\n",
    "        super().__init__(name,salary,self.__departmentName)\n",
    "\n",
    "class Programmer(Employee):\n",
    "    __departmentName = \"พัฒนาระบบ\"\n",
    "    def __init__(self,name,salary):\n",
    "        super().__init__(name,salary,self.__departmentName)\n",
    "        # super()._showdetail()\n",
    "\n",
    "class Sale(Employee):\n",
    "    __departmentName = \"ฝ่ายขาย\"\n",
    "    def __init__(self,name,salary):\n",
    "        super().__init__(name,salary,self.__departmentName)\n",
    "\n",
    "\n",
    "accounting = Accounting(\"kon\",15000)\n",
    "# print(f\"รายได้ต่อปี {accounting._getIncome()}\")\n",
    "print(accounting.__str__())\n",
    "programmer = Programmer(\"นัท\",30000)\n",
    "print(programmer.__str__())\n",
    "sale = Sale(\"โบว์วี่\",20000)\n",
    "print(sale.__str__())\n",
    "# programmer._showdetail()\n",
    "\n",
    "\n",
    "\n"
   ]
  },
  {
   "cell_type": "markdown",
   "metadata": {},
   "source": [
    "OVERLOADING & OVERRIDING METHOD\n",
    "\n",
    "ภาพประกอบ:\n",
    "***Overloading: การเพิ่มเมธอดที่รับค่าแตกต่างกัน (เช่น          เครื่องชั่งน้ำหนักที่รับคนหนึ่งหรือหลายคน)**\n",
    "\n",
    "***Overriding: การเปลี่ยนเสียงสัตว์ในคลาสลูกให้แตกต่างจากคลาสแม่ (เช่น หมาพูดว่า \"เห่า\" แทน \"เสียงทั่วไป\") 🐶***"
   ]
  },
  {
   "cell_type": "code",
   "execution_count": 23,
   "metadata": {},
   "outputs": [
    {
     "name": "stdout",
     "output_type": "stream",
     "text": [
      "ชื่อพนักงาน = kon\n",
      "เงินเดือน =  15000\n",
      "ตำแหน่ง = บัญชี\n",
      "อายุ = 26\n",
      "รายได้ต่อปี = 180000\n",
      "###############\n",
      "ชื่อพนักงาน = นัท\n",
      "เงินเดือน =  30000\n",
      "ตำแหน่ง = พัฒนาระบบ\n",
      "ประสบการณ์ = 0\n",
      "ทักษะ = pytorch\n",
      "รายได้ต่อปี = 360000\n",
      "###############\n",
      "ชื่อพนักงาน = โบว์วี่\n",
      "เงินเดือน =  20000\n",
      "ตำแหน่ง = ฝ่ายขาย\n",
      "พื้นที่รับผิดชอบ = บางปะกง\n",
      "รายได้ต่อปี = 250000\n",
      "###############\n"
     ]
    }
   ],
   "source": [
    "#Overloading\n",
    "\n",
    "#class แม่\n",
    "class Employee:\n",
    "    #class variable\n",
    "    minsalary = 50000\n",
    "    _maxsalary = 50000\n",
    "    companyName = \"ABC.co.lt\"\n",
    "    def __init__(self,name,salary,department):#construtor\n",
    "        # instance variable\n",
    "        self.__name = name #Private\n",
    "        self.__salary = salary #Private\n",
    "        self._department = department #Private\n",
    "\n",
    "    \n",
    "    # Private method\n",
    "    def _showdetail(self):\n",
    "        print(\"ชื่อพนักงาน = \"+self.__name)\n",
    "        print(\"เงินเดือน = \",format(self.__salary))\n",
    "        print(\"ตำแหน่ง = \"+self._department)\n",
    "\n",
    "    #salary year and bonus\n",
    "    def _getIncome(self,bonus=0):\n",
    "        return (self.__salary*12)+bonus\n",
    "    \n",
    "    def __str__(self):\n",
    "        return (f\"ชื่อพนักงาน {self.__name} เงินเดือน {self.__salary} แผนก {self._department} รายได้ต่อปี {self._getIncome()}\")\n",
    "\n",
    "#class ลูก\n",
    "class Accounting(Employee):\n",
    "    __departmentName = \"บัญชี\"\n",
    "    def __init__(self,name,salary,age):\n",
    "        super().__init__(name,salary,self.__departmentName)#construtor class แม่\n",
    "        self._age = age\n",
    "    #OverRiding\n",
    "    def _showdetail(self):\n",
    "        super()._showdetail()\n",
    "        print(\"อายุ = \"+str(self._age))\n",
    "        print(\"รายได้ต่อปี = \"+str(super()._getIncome()))\n",
    "        print(\"###############\")\n",
    "\n",
    "\n",
    "class Programmer(Employee):\n",
    "    __departmentName = \"พัฒนาระบบ\"\n",
    "    def __init__(self,name,salary,exp,skill):\n",
    "        super().__init__(name,salary,self.__departmentName)\n",
    "        self.__exp = exp\n",
    "        self.__skill = skill\n",
    "        #OverRiding\n",
    "    def _showdetail(self):\n",
    "        super()._showdetail()\n",
    "        print(\"ประสบการณ์ = \"+str(self.__exp))\n",
    "        print(\"ทักษะ = \"+self.__skill)\n",
    "        print(\"รายได้ต่อปี = \"+str(super()._getIncome()))\n",
    "        print(\"###############\")\n",
    "\n",
    "class Sale(Employee):\n",
    "    __departmentName = \"ฝ่ายขาย\"\n",
    "    def __init__(self,name,salary,area):\n",
    "        super().__init__(name,salary,self.__departmentName)\n",
    "        self.__area = area\n",
    "        #OverRiding\n",
    "    def _showdetail(self):\n",
    "        super()._showdetail()\n",
    "        print(\"พื้นที่รับผิดชอบ = \"+self.__area)\n",
    "        print(\"รายได้ต่อปี = \"+str(super()._getIncome(10000)))\n",
    "        print(\"###############\")\n",
    "\n",
    "accounting = Accounting(\"kon\",15000,26)\n",
    "accounting._showdetail()\n",
    "\n",
    "programmer = Programmer(\"นัท\",30000,0,\"pytorch\")\n",
    "programmer._showdetail()\n",
    "\n",
    "sale = Sale(\"โบว์วี่\",20000,\"บางปะกง\")\n",
    "sale._showdetail()\n",
    "\n",
    "\n",
    "\n",
    "\n"
   ]
  },
  {
   "cell_type": "markdown",
   "metadata": {},
   "source": [
    "การแบ่งไฟล์และเรียกใช้"
   ]
  },
  {
   "cell_type": "markdown",
   "metadata": {},
   "source": [
    "employee.py"
   ]
  },
  {
   "cell_type": "code",
   "execution_count": 27,
   "metadata": {},
   "outputs": [],
   "source": [
    "class Employee:\n",
    "    #class variable\n",
    "    minsalary = 50000\n",
    "    _maxsalary = 50000\n",
    "    companyName = \"ABC.co.lt\"\n",
    "    def __init__(self,name,salary,department):#construtor\n",
    "        # instance variable\n",
    "        self.__name = name #Private\n",
    "        self.__salary = salary #Private\n",
    "        self._department = department #Private\n",
    "\n",
    "    \n",
    "    # Private method\n",
    "    def _showdetail(self):\n",
    "        print(\"ชื่อพนักงาน = \"+self.__name)\n",
    "        print(\"เงินเดือน = \",format(self.__salary))\n",
    "        print(\"ตำแหน่ง = \"+self._department)\n",
    "\n",
    "    #salary year and bonus\n",
    "    def _getIncome(self,bonus=0):\n",
    "        return (self.__salary*12)+bonus\n",
    "    \n",
    "    def __str__(self):\n",
    "        return (f\"ชื่อพนักงาน {self.__name} เงินเดือน {self.__salary} แผนก {self._department} รายได้ต่อปี {self._getIncome()}\")"
   ]
  },
  {
   "cell_type": "markdown",
   "metadata": {},
   "source": [
    "programmer.py"
   ]
  },
  {
   "cell_type": "code",
   "execution_count": 26,
   "metadata": {},
   "outputs": [],
   "source": [
    "from employee import Employee\n",
    "class Programmer(Employee):\n",
    "    __departmentName = \"พัฒนาระบบ\"\n",
    "    def __init__(self,name,salary,exp,skill):\n",
    "        super().__init__(name,salary,self.__departmentName)\n",
    "        self.__exp = exp\n",
    "        self.__skill = skill\n",
    "        #OverRiding\n",
    "    def _showdetail(self):\n",
    "        super()._showdetail()\n",
    "        print(\"ประสบการณ์ = \"+str(self.__exp))\n",
    "        print(\"ทักษะ = \"+self.__skill)\n",
    "        print(\"รายได้ต่อปี = \"+str(super()._getIncome()))\n",
    "        print(\"###############\")"
   ]
  },
  {
   "cell_type": "markdown",
   "metadata": {},
   "source": [
    "sale.py"
   ]
  },
  {
   "cell_type": "code",
   "execution_count": 28,
   "metadata": {},
   "outputs": [],
   "source": [
    "from employee import Employee\n",
    "\n",
    "class Sale(Employee):\n",
    "    __departmentName = \"ฝ่ายขาย\"\n",
    "    def __init__(self,name,salary,area):\n",
    "        super().__init__(name,salary,self.__departmentName)\n",
    "        self.__area = area\n",
    "        #OverRiding\n",
    "    def _showdetail(self):\n",
    "        super()._showdetail()\n",
    "        print(\"พื้นที่รับผิดชอบ = \"+self.__area)\n",
    "        print(\"รายได้ต่อปี = \"+str(super()._getIncome(10000)))\n",
    "        print(\"###############\")"
   ]
  },
  {
   "cell_type": "markdown",
   "metadata": {},
   "source": [
    "accounting.py"
   ]
  },
  {
   "cell_type": "code",
   "execution_count": 29,
   "metadata": {},
   "outputs": [],
   "source": [
    "from employee import Employee\n",
    "class Accounting(Employee):\n",
    "    __departmentName = \"บัญชี\"\n",
    "    def __init__(self,name,salary,age):\n",
    "        super().__init__(name,salary,self.__departmentName)#construtor class แม่\n",
    "        self._age = age\n",
    "    #OverRiding\n",
    "    def _showdetail(self):\n",
    "        super()._showdetail()\n",
    "        print(\"อายุ = \"+str(self._age))\n",
    "        print(\"รายได้ต่อปี = \"+str(super()._getIncome()))\n",
    "        print(\"###############\")\n",
    "\n"
   ]
  },
  {
   "cell_type": "markdown",
   "metadata": {},
   "source": [
    "main.py"
   ]
  },
  {
   "cell_type": "code",
   "execution_count": 30,
   "metadata": {},
   "outputs": [
    {
     "name": "stdout",
     "output_type": "stream",
     "text": [
      "ชื่อพนักงาน = kon\n",
      "เงินเดือน =  15000\n",
      "ตำแหน่ง = บัญชี\n",
      "อายุ = 26\n",
      "รายได้ต่อปี = 180000\n",
      "###############\n",
      "ชื่อพนักงาน = นัท\n",
      "เงินเดือน =  30000\n",
      "ตำแหน่ง = พัฒนาระบบ\n",
      "ประสบการณ์ = 0\n",
      "ทักษะ = pytorch\n",
      "รายได้ต่อปี = 360000\n",
      "###############\n",
      "ชื่อพนักงาน = โบว์วี่\n",
      "เงินเดือน =  20000\n",
      "ตำแหน่ง = ฝ่ายขาย\n",
      "พื้นที่รับผิดชอบ = บางปะกง\n",
      "รายได้ต่อปี = 250000\n",
      "###############\n"
     ]
    }
   ],
   "source": [
    "from employee import Employee\n",
    "from accounting import Accounting\n",
    "from sale import Sale\n",
    "from programmer import Programmer\n",
    "accounting = Accounting(\"kon\",15000,26)\n",
    "accounting._showdetail()\n",
    "\n",
    "programmer = Programmer(\"นัท\",30000,0,\"pytorch\")\n",
    "programmer._showdetail()\n",
    "\n",
    "sale = Sale(\"โบว์วี่\",20000,\"บางปะกง\")\n",
    "sale._showdetail()\n"
   ]
  }
 ],
 "metadata": {
  "kernelspec": {
   "display_name": "Deep_learning",
   "language": "python",
   "name": "python3"
  },
  "language_info": {
   "codemirror_mode": {
    "name": "ipython",
    "version": 3
   },
   "file_extension": ".py",
   "mimetype": "text/x-python",
   "name": "python",
   "nbconvert_exporter": "python",
   "pygments_lexer": "ipython3",
   "version": "3.12.3"
  }
 },
 "nbformat": 4,
 "nbformat_minor": 2
}
